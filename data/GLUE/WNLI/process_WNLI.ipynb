{
 "cells": [
  {
   "cell_type": "code",
   "execution_count": 1,
   "metadata": {},
   "outputs": [],
   "source": [
    "#!/usr/bin/env python\n",
    "# -*- coding: utf-8 -*-\n",
    "# Author: RenzeLou\n",
    "# use this script to preprocess all .tsv file to .json format and generate .source_vocab for each split(train/dev/test)\n",
    "# we don't do lowering because we use bert-base-cased\n",
    "\n",
    "import json,csv\n",
    "import numpy as np\n",
    "import pandas as pd\n",
    "import re"
   ]
  },
  {
   "cell_type": "code",
   "execution_count": 2,
   "metadata": {},
   "outputs": [],
   "source": [
    "train_file = []\n",
    "dev_file = []\n",
    "test_file = []\n",
    "labels = []"
   ]
  },
  {
   "cell_type": "code",
   "execution_count": 3,
   "metadata": {},
   "outputs": [
    {
     "name": "stdout",
     "output_type": "stream",
     "text": [
      "['index', 'sentence1', 'sentence2']\n",
      "['0', 'Maude and Dora had seen the trains rushing across the prairie, with long, rolling puffs of black smoke streaming back from the engine. Their roars and their wild, clear whistles could be heard from far away. Horses ran away when they came in sight.', 'Horses ran away when Maude and Dora came in sight.']\n",
      "['1', 'Maude and Dora had seen the trains rushing across the prairie, with long, rolling puffs of black smoke streaming back from the engine. Their roars and their wild, clear whistles could be heard from far away. Horses ran away when they came in sight.', 'Horses ran away when the trains came in sight.']\n",
      "['2', 'Maude and Dora had seen the trains rushing across the prairie, with long, rolling puffs of black smoke streaming back from the engine. Their roars and their wild, clear whistles could be heard from far away. Horses ran away when they came in sight.', 'Horses ran away when the puffs came in sight.']\n",
      "['3', 'Maude and Dora had seen the trains rushing across the prairie, with long, rolling puffs of black smoke streaming back from the engine. Their roars and their wild, clear whistles could be heard from far away. Horses ran away when they came in sight.', 'Horses ran away when the roars came in sight.']\n",
      "['4', 'Maude and Dora had seen the trains rushing across the prairie, with long, rolling puffs of black smoke streaming back from the engine. Their roars and their wild, clear whistles could be heard from far away. Horses ran away when they came in sight.', 'Horses ran away when the whistles came in sight.']\n",
      "['5', 'Maude and Dora had seen the trains rushing across the prairie, with long, rolling puffs of black smoke streaming back from the engine. Their roars and their wild, clear whistles could be heard from far away. Horses ran away when they came in sight.', 'Horses ran away when the horses came in sight.']\n",
      "['6', 'Maude and Dora had seen the trains rushing across the prairie, with long, rolling puffs of black smoke streaming back from the engine. Their roars and their wild, clear whistles could be heard from far away. Horses ran away when they saw a train coming.', 'Maude and Dora saw a train coming.']\n",
      "['7', 'Maude and Dora had seen the trains rushing across the prairie, with long, rolling puffs of black smoke streaming back from the engine. Their roars and their wild, clear whistles could be heard from far away. Horses ran away when they saw a train coming.', 'The trains saw a train coming.']\n",
      "['8', 'Maude and Dora had seen the trains rushing across the prairie, with long, rolling puffs of black smoke streaming back from the engine. Their roars and their wild, clear whistles could be heard from far away. Horses ran away when they saw a train coming.', 'The puffs saw a train coming.']\n",
      "['9', 'Maude and Dora had seen the trains rushing across the prairie, with long, rolling puffs of black smoke streaming back from the engine. Their roars and their wild, clear whistles could be heard from far away. Horses ran away when they saw a train coming.', 'The roars saw a train coming.']\n"
     ]
    }
   ],
   "source": [
    "with open(\"./test.tsv\",\"r\",encoding=\"utf-8\") as test:\n",
    "    t=csv.reader(test,delimiter='\\t')\n",
    "    for k,line in enumerate(t):\n",
    "        print(list(line))\n",
    "#         assert len(line) == 4\n",
    "        if k==10:\n",
    "            break"
   ]
  },
  {
   "cell_type": "code",
   "execution_count": 4,
   "metadata": {},
   "outputs": [
    {
     "name": "stdout",
     "output_type": "stream",
     "text": [
      "['index', 'sentence1', 'sentence2', 'label']\n",
      "['0', 'I stuck a pin through a carrot. When I pulled the pin out, it had a hole.', 'The carrot had a hole.', '1']\n",
      "['1', \"John couldn't see the stage with Billy in front of him because he is so short.\", 'John is so short.', '1']\n",
      "['2', 'The police arrested all of the gang members. They were trying to stop the drug trade in the neighborhood.', 'The police were trying to stop the drug trade in the neighborhood.', '1']\n",
      "['3', \"Steve follows Fred's example in everything. He influences him hugely.\", 'Steve influences him hugely.', '0']\n",
      "['4', 'When Tatyana reached the cabin, her mother was sleeping. She was careful not to disturb her, undressing and climbing back into her berth.', 'mother was careful not to disturb her, undressing and climbing back into her berth.', '0']\n",
      "['5', 'George got free tickets to the play, but he gave them to Eric, because he was particularly eager to see it.', 'George was particularly eager to see it.', '0']\n",
      "['6', 'John was jogging through the park when he saw a man juggling watermelons. He was very impressive.', 'John was very impressive.', '0']\n",
      "['7', \"I couldn't put the pot on the shelf because it was too tall.\", 'The pot was too tall.', '1']\n",
      "['8', 'We had hoped to place copies of our newsletter on all the chairs in the auditorium, but there were simply not enough of them.', 'There were simply not enough copies of the newsletter.', '1']\n",
      "['9', \"At the Loebner competition the judges couldn't figure out which respondents were the chatbots because they were so advanced.\", 'The judges were so advanced.', '0']\n"
     ]
    }
   ],
   "source": [
    "with open(\"./train.tsv\",\"r\",encoding=\"utf-8\") as train:\n",
    "    t=csv.reader(train,delimiter='\\t')\n",
    "    for k,line in enumerate(t):\n",
    "        print(list(line))\n",
    "#         assert len(line) == 4\n",
    "        if k==10:\n",
    "            break"
   ]
  },
  {
   "cell_type": "code",
   "execution_count": 5,
   "metadata": {},
   "outputs": [
    {
     "name": "stdout",
     "output_type": "stream",
     "text": [
      "skip first line\n"
     ]
    }
   ],
   "source": [
    "with open(\"./train.tsv\",\"r\",encoding=\"utf-8\") as train:\n",
    "    t=csv.reader(train,delimiter='\\t')\n",
    "    for i,line in enumerate(t):\n",
    "        if i==0:\n",
    "            print(\"skip first line\")\n",
    "            continue\n",
    "#         print(list(line))\n",
    "        try:\n",
    "            assert len(line) == 4\n",
    "        except:\n",
    "            print(\"error\")\n",
    "            print(line)\n",
    "            continue\n",
    "        lb=line[3]\n",
    "        if lb not in labels:\n",
    "            labels.append(lb)\n",
    "        label = labels.index(lb)\n",
    "        instance = dict()\n",
    "        instance[\"index\"],instance['seq1'],instance['seq2'],instance[\"label\"]=int(line[0]),line[1],line[2],label\n",
    "        train_file.append(instance)"
   ]
  },
  {
   "cell_type": "code",
   "execution_count": 6,
   "metadata": {},
   "outputs": [
    {
     "name": "stdout",
     "output_type": "stream",
     "text": [
      "skip first line\n"
     ]
    }
   ],
   "source": [
    "with open(\"./dev.tsv\",\"r\",encoding=\"utf-8\") as dev:\n",
    "    t=csv.reader(dev,delimiter='\\t')\n",
    "    for i,line in enumerate(t):\n",
    "#         print(list(line))\n",
    "        if i==0:\n",
    "            print(\"skip first line\")\n",
    "            continue\n",
    "#         print(list(line))\n",
    "        try:\n",
    "            assert len(line) == 4\n",
    "        except:\n",
    "            print(\"error\")\n",
    "            print(line)\n",
    "            continue\n",
    "        lb=line[3]\n",
    "        if lb not in labels:\n",
    "            labels.append(lb)\n",
    "        label = labels.index(lb)\n",
    "        instance = dict()\n",
    "        instance[\"index\"],instance['seq1'],instance['seq2'],instance[\"label\"]=int(line[0]),line[1],line[2],label\n",
    "        dev_file.append(instance)"
   ]
  },
  {
   "cell_type": "code",
   "execution_count": 7,
   "metadata": {},
   "outputs": [
    {
     "name": "stdout",
     "output_type": "stream",
     "text": [
      "skip first line\n"
     ]
    }
   ],
   "source": [
    "with open(\"./test.tsv\",\"r\",encoding=\"utf-8\") as test:\n",
    "    t=csv.reader(test,delimiter='\\t')\n",
    "    for i,line in enumerate(t):\n",
    "#         print(list(line))\n",
    "        if i==0:\n",
    "            print(\"skip first line\")\n",
    "            continue\n",
    "#         print(list(line))\n",
    "        try:\n",
    "            assert len(line) == 3\n",
    "        except:\n",
    "            print(\"error\")\n",
    "            print(line)\n",
    "            continue\n",
    "#         lb=line[3]\n",
    "#         if lb not in labels:\n",
    "#             labels.append(lb)\n",
    "#         label = labels.index(lb)\n",
    "        instance = dict()\n",
    "        instance[\"index\"],instance['seq1'],instance['seq2'],instance[\"label\"]=int(line[0]),line[1],line[2],None\n",
    "        test_file.append(instance)"
   ]
  },
  {
   "cell_type": "code",
   "execution_count": 8,
   "metadata": {},
   "outputs": [],
   "source": [
    "def simple_filt(seq:str):\n",
    "    if seq is None:\n",
    "        return None\n",
    "    tokens = seq.split()\n",
    "    tokens = [t for t in tokens if t != \"\"]\n",
    "    \n",
    "    return \" \".join(tokens)"
   ]
  },
  {
   "cell_type": "code",
   "execution_count": 9,
   "metadata": {},
   "outputs": [],
   "source": [
    "def write_to_json(list_files:list,file_names:list,labels:list):\n",
    "    ''' write cached object to json file(train/dev/test)\n",
    "    and also generate data statistic information\n",
    "    \n",
    "    assert the order of input list is train/dev/test\n",
    "    '''\n",
    "    def seq_len(seq:str):\n",
    "        try:\n",
    "            return len(seq.split(\" \"))\n",
    "        except:\n",
    "            if seq is None:\n",
    "                return 0\n",
    "            else:\n",
    "                raise KeyError\n",
    "                \n",
    "    max_lens = []\n",
    "    for i,list_file in enumerate(list_files):\n",
    "        max_len = 0\n",
    "        new_list = []\n",
    "        for item in list_file:\n",
    "            item['seq1'],item['seq2'] = simple_filt(item[\"seq1\"]),simple_filt(item['seq2'])\n",
    "            max_len_two_seq=max(seq_len(item['seq1']),seq_len(item['seq2']))\n",
    "            max_len = max(max_len_two_seq,max_len)\n",
    "            new_list.append(item)\n",
    "        with open(file_names[i],\"w\") as f:\n",
    "            json.dump(new_list,f)\n",
    "        \n",
    "        print(\"successfully dump %s file\" %file_names[i])\n",
    "        max_lens.append(max_len)\n",
    "    \n",
    "    data_info = dict()\n",
    "    train_info = dict()\n",
    "    dev_info = dict()\n",
    "    test_info = dict()\n",
    "    idx2lb = dict()\n",
    "    for i,lb in enumerate(labels):\n",
    "        idx2lb[i] = lb\n",
    "    print(\"index to label:\",idx2lb)\n",
    "    \n",
    "    train_info[\"instance_num\"],train_info[\"instance_max_len\"] = len(list_files[0]),max_lens[0]\n",
    "    dev_info[\"instance_num\"],dev_info[\"instance_max_len\"] = len(list_files[1]),max_lens[1]\n",
    "    test_info[\"instance_num\"],test_info[\"instance_max_len\"] = len(list_files[2]),max_lens[2]\n",
    "    \n",
    "    \n",
    "    data_info[\"labels\"] = idx2lb\n",
    "    data_info[\"train\"] = train_info\n",
    "    data_info[\"dev\"] = dev_info\n",
    "    data_info[\"test\"] = test_info\n",
    "    \n",
    "    data_info_name = \"./data_info.json\"\n",
    "    with open(data_info_name,\"w\") as f:\n",
    "        json.dump(data_info,f)\n",
    "    print(\"successfully dump %s file\" %data_info_name )"
   ]
  },
  {
   "cell_type": "code",
   "execution_count": 10,
   "metadata": {},
   "outputs": [
    {
     "data": {
      "text/plain": [
       "['1', '0']"
      ]
     },
     "execution_count": 10,
     "metadata": {},
     "output_type": "execute_result"
    }
   ],
   "source": [
    "labels"
   ]
  },
  {
   "cell_type": "code",
   "execution_count": 11,
   "metadata": {},
   "outputs": [
    {
     "name": "stdout",
     "output_type": "stream",
     "text": [
      "successfully dump train.json file\n",
      "successfully dump dev.json file\n",
      "successfully dump test.json file\n",
      "index to label: {0: '1', 1: '0'}\n",
      "successfully dump ./data_info.json file\n"
     ]
    }
   ],
   "source": [
    "write_to_json([train_file,dev_file,test_file],[\"train.json\",\"dev.json\",\"test.json\"],labels)"
   ]
  },
  {
   "cell_type": "code",
   "execution_count": null,
   "metadata": {},
   "outputs": [],
   "source": []
  }
 ],
 "metadata": {
  "kernelspec": {
   "display_name": "Python 3",
   "language": "python",
   "name": "python3"
  },
  "language_info": {
   "codemirror_mode": {
    "name": "ipython",
    "version": 3
   },
   "file_extension": ".py",
   "mimetype": "text/x-python",
   "name": "python",
   "nbconvert_exporter": "python",
   "pygments_lexer": "ipython3",
   "version": "3.6.5"
  }
 },
 "nbformat": 4,
 "nbformat_minor": 2
}
