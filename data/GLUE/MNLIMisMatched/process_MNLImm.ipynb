{
 "cells": [
  {
   "cell_type": "code",
   "execution_count": 1,
   "metadata": {},
   "outputs": [
    {
     "data": {
      "text/plain": [
       "131072"
      ]
     },
     "execution_count": 1,
     "metadata": {},
     "output_type": "execute_result"
    }
   ],
   "source": [
    "#!/usr/bin/env python\n",
    "# -*- coding: utf-8 -*-\n",
    "# Author: RenzeLou\n",
    "# use this script to preprocess all .tsv file to .json format and generate .source_vocab for each split(train/dev/test)\n",
    "# we don't do lowering because we use bert-base-cased\n",
    "\n",
    "import json,csv\n",
    "import numpy as np\n",
    "import pandas as pd\n",
    "import re\n",
    "\n",
    "csv.field_size_limit(500 * 1024 * 1024)"
   ]
  },
  {
   "cell_type": "code",
   "execution_count": 2,
   "metadata": {},
   "outputs": [],
   "source": [
    "train_file = []\n",
    "dev_file = []\n",
    "test_file = []\n",
    "labels = []"
   ]
  },
  {
   "cell_type": "code",
   "execution_count": 3,
   "metadata": {},
   "outputs": [
    {
     "name": "stdout",
     "output_type": "stream",
     "text": [
      "['index', 'promptID', 'pairID', 'genre', 'sentence1_binary_parse', 'sentence2_binary_parse', 'sentence1_parse', 'sentence2_parse', 'sentence1', 'sentence2']\n",
      "['0', '16130', '16130', 'facetoface', '( ( What ( have ( you decided ) ) ) ( , ( what ( ( ( are you ) ( going ( to do ) ) ) ? ) ) ) )', \"( So ( what ( ( 's ( your decision ) ) ? ) ) )\", '(ROOT (SBARQ (SBAR (WHNP (WP What)) (S (VP (VBP have) (S (NP (PRP you)) (VP (VBD decided)))))) (, ,) (WHNP (WP what)) (SQ (VBP are) (NP (PRP you)) (VP (VBG going) (S (VP (TO to) (VP (VB do)))))) (. ?)))', \"(ROOT (SBARQ (RB So) (WHNP (WP what)) (SQ (VBZ 's) (NP (PRP$ your) (NN decision))) (. ?)))\", 'What have you decided, what are you going to do?', \"So what's your decision?\"]\n",
      "['1', '128269', '128269', 'oup', \"( ( ( Women 's ) clothing ) ( ( is ( characterized ( by ( ( great diversity ) ( in ( ( styles and ) ( short ( production runs ) ) ) ) ) ) ) ) . ) )\", \"( ( ( Men 's ) clothing ) ( typically ( ( ( has ( the ( ( most stylistic ) diversity ) ) ) ( unlike ( ( the blandness ) ( of ( ( women 's ) fashion ) ) ) ) ) . ) ) )\", \"(ROOT (S (NP (NP (NNP Women) (POS 's)) (NN clothing)) (VP (VBZ is) (VP (VBN characterized) (PP (IN by) (NP (NP (JJ great) (NN diversity)) (PP (IN in) (NP (NP (NNS styles)) (CC and) (NP (JJ short) (NN production) (NNS runs)))))))) (. .)))\", \"(ROOT (S (NP (NP (NNP Men) (POS 's)) (NN clothing)) (ADVP (RB typically)) (VP (VBZ has) (NP (DT the) (ADJP (RBS most) (JJ stylistic)) (NN diversity)) (PP (IN unlike) (NP (NP (DT the) (NN blandness)) (PP (IN of) (NP (NP (NNS women) (POS 's)) (NN fashion)))))) (. .)))\", \"Women's clothing is characterized by great diversity in styles and short production runs.\", \"Men's clothing typically has the most stylistic diversity unlike the blandness of women's fashion.\"]\n"
     ]
    }
   ],
   "source": [
    "with open(\"./test_mismatched.tsv\",\"r\",encoding=\"utf-8\") as test:\n",
    "    t=csv.reader(test,delimiter='\\t')\n",
    "    for k,line in enumerate(t):\n",
    "        print(list(line))\n",
    "#         assert len(line) == 4\n",
    "        if k==2:\n",
    "            break"
   ]
  },
  {
   "cell_type": "code",
   "execution_count": 4,
   "metadata": {},
   "outputs": [
    {
     "name": "stdout",
     "output_type": "stream",
     "text": [
      "['index', 'promptID', 'pairID', 'genre', 'sentence1_binary_parse', 'sentence2_binary_parse', 'sentence1_parse', 'sentence2_parse', 'sentence1', 'sentence2', 'label1', 'label2', 'label3', 'label4', 'label5', 'gold_label']\n",
      "['0', '75290', '75290c', 'letters', '( ( Your contribution ) ( ( helped ( make ( it ( possible ( for ( us ( to ( ( provide ( our students ) ) ( with ( a ( quality education ) ) ) ) ) ) ) ) ) ) ) . ) )', \"( ( Your contributions ) ( ( were ( of ( ( no help ) ( with ( ( our ( students ' ) ) education ) ) ) ) ) . ) )\", '(ROOT (S (NP (PRP$ Your) (NN contribution)) (VP (VBD helped) (VP (VB make) (S (NP (PRP it)) (ADJP (JJ possible)) (SBAR (IN for) (S (NP (PRP us)) (VP (TO to) (VP (VB provide) (NP (PRP$ our) (NNS students)) (PP (IN with) (NP (DT a) (NN quality) (NN education)))))))))) (. .)))', \"(ROOT (S (NP (PRP$ Your) (NNS contributions)) (VP (VBD were) (PP (IN of) (NP (NP (DT no) (NN help)) (PP (IN with) (NP (NP (PRP$ our) (NNS students) (POS ')) (NN education)))))) (. .)))\", 'Your contribution helped make it possible for us to provide our students with a quality education.', \"Your contributions were of no help with our students' education.\", 'contradiction', 'contradiction', 'contradiction', 'contradiction', 'contradiction', 'contradiction']\n",
      "['1', '133794', '133794c', 'verbatim', \"( ( ( ( ( ( The answer ) ( ( ( ( has nothing ) ( to ( do ( with ( their cause ) ) ) ) ) , ) however ) ) , ) but ) ( ( with ( ( ( ( ( ( ( ( the ( simple fact ) ) ( that ( dictionaries ( ( are not ) ( exercises ( in ( bi-unique substitutability ) ) ) ) ) ) ) ; ) ( in ( ( ( other words ) , ) ( if ( ( one ( of ( ( the senses ) ( of run ) ) ) ) ( ( is ` ) ( ( ( ( operate ' ) -LRB- ) ( as ( in ( She ( runs ( an ( engine factory ) ) ) ) ) ) ) -RRB- ) ) ) ) ) ) ) , ) ( that ( ( does not ) ( ( make it ) ( ( valid ( to ( assume ( that ( one ( can ( substitute ( ( operate ( for run ) ) ( in ( We ( ( run ( in ( ( the marathon ) ( every year ) ) ) ) . ) ) ) ) ) ) ) ) ) ) ) ( Although ( ( ( ( recognizing this ) ( as ( ( a shortcoming ) ( of dictionaries ) ) ) ) and ) ( ( ( assigning it ) arbitrarily ) ( to ( what ( , ( ( for ( lack ( of ( a ( better term ) ) ) ) ) ( , ( we ( might ( call ( ( the genius ) ( of ( the language ) ) ) ) ) ) ) ) ) ) ) ) ) ) ) ) ) ) ) , ) ( might ( seem ( trivial ( to ( the ( casual observer ) ) ) ) ) ) ) ) ( , ( it ( is ( ( a ( valid matter ) ) ( for ( concern ( in ( ( the realm ) ( of lexicology ) ) ) ) ) ) ) ) ) ) ) . )\", '( Dictionaries ( ( ( are indeed ) ( exercises ( in ( bi-unique substitutability ) ) ) ) . ) )', \"(ROOT (S (S (NP (DT The) (NN answer)) (VP (VBZ has) (ADVP (NN nothing)) (S (VP (TO to) (VP (VB do) (PP (IN with) (NP (PRP$ their) (NN cause)))))) (, ,) (ADVP (RB however)))) (, ,) (CC but) (S (SBAR (IN with) (S (NP (NP (DT the) (JJ simple) (NN fact)) (SBAR (IN that) (S (NP (NNS dictionaries)) (VP (VBP are) (RB not) (NP (NP (NNS exercises)) (PP (IN in) (NP (JJ bi-unique) (NN substitutability))))))) (: ;) (PP (IN in) (NP (NP (JJ other) (NNS words)) (, ,) (SBAR (IN if) (S (NP (NP (CD one)) (PP (IN of) (NP (NP (DT the) (NNS senses)) (PP (IN of) (NP (NN run)))))) (VP (VBZ is) (`` `) (VP (VB operate) ('' ') (-LRB- -LRB-) (SBAR (RB as) (IN in) (S (NP (PRP She)) (VP (VBZ runs) (NP (DT an) (NN engine) (NN factory))))) (-RRB- -RRB-))))))) (, ,) (SBAR (WHNP (WDT that)) (S (VP (VBZ does) (RB not) (VP (VB make) (NP (PRP it)) (S (ADJP (JJ valid) (S (VP (TO to) (VP (VB assume) (SBAR (IN that) (S (NP (PRP one)) (VP (MD can) (VP (VB substitute) (VP (VB operate) (PP (IN for) (NP (NN run))) (SBAR (IN in) (S (NP (PRP We)) (VP (VB run) (PP (IN in) (NP (NP (DT the) (NN marathon)) (NP (DT every) (NN year)))) (. .))))))))))))) (SBAR (IN Although) (S (S (VP (VBG recognizing) (NP (DT this)) (PP (IN as) (NP (NP (DT a) (NN shortcoming)) (PP (IN of) (NP (NNS dictionaries))))))) (CC and) (S (VP (VBG assigning) (NP (PRP it)) (ADVP (RB arbitrarily)) (PP (TO to) (SBAR (WHNP (WP what)) (S (, ,) (PP (IN for) (NP (NP (NN lack)) (PP (IN of) (NP (DT a) (JJR better) (NN term))))) (, ,) (NP (PRP we)) (VP (MD might) (VP (VB call) (NP (NP (DT the) (NN genius)) (PP (IN of) (NP (DT the) (NN language)))))))))))))))))) (, ,)) (VP (MD might) (VP (VB seem) (ADJP (JJ trivial) (PP (TO to) (NP (DT the) (JJ casual) (NN observer)))))))) (, ,) (NP (PRP it)) (VP (VBZ is) (NP (NP (DT a) (JJ valid) (NN matter)) (PP (IN for) (NP (NP (NN concern)) (PP (IN in) (NP (NP (DT the) (NN realm)) (PP (IN of) (NP (NN lexicology)))))))))) (. .)))\", '(ROOT (S (NP (NNS Dictionaries)) (VP (VBP are) (ADVP (RB indeed)) (NP (NP (NNS exercises)) (PP (IN in) (NP (JJ bi-unique) (NN substitutability))))) (. .)))', \"The answer has nothing to do with their cause, however, but with the simple fact that dictionaries are not exercises in bi-unique substitutability; in other words, if one of the senses of run is `operate' (as in She runs an engine factory ), that does not make it valid to assume that one can substitute operate for run in We run in the marathon every year .  Although recognizing this as a shortcoming of dictionaries and assigning it arbitrarily to what, for lack of a better term, we might call the  genius  of the language, might seem trivial to the casual observer, it is a valid matter for concern in the realm of lexicology.\", 'Dictionaries are indeed exercises in bi-unique substitutability.', 'contradiction', 'contradiction', 'contradiction', 'contradiction', 'contradiction', 'contradiction']\n"
     ]
    }
   ],
   "source": [
    "with open(\"./dev_mismatched.tsv\",\"r\",encoding=\"utf-8\") as dev:\n",
    "    t=csv.reader(dev,delimiter='\\t')\n",
    "    for k,line in enumerate(t):\n",
    "        print(list(line))\n",
    "#         assert len(line) == 4\n",
    "        if k==2:\n",
    "            break"
   ]
  },
  {
   "cell_type": "code",
   "execution_count": 5,
   "metadata": {},
   "outputs": [
    {
     "name": "stdout",
     "output_type": "stream",
     "text": [
      "skip first line\n"
     ]
    }
   ],
   "source": [
    "desolate = 0\n",
    "with open(\"./train.tsv\",\"r\",encoding=\"utf-8\") as train:\n",
    "    t=csv.reader(train,delimiter='\\t')\n",
    "    for i,line in enumerate(t):\n",
    "        if i==0:\n",
    "            print(\"skip first line\")\n",
    "            continue\n",
    "#         print(list(line))\n",
    "#         try:\n",
    "#             assert len(line) == 12\n",
    "#         except:\n",
    "#             print(\"error\")\n",
    "# #             print(line)\n",
    "#             desolate+=1\n",
    "#             continue\n",
    "        lb=line[-1]\n",
    "        if lb not in labels:\n",
    "            labels.append(lb)\n",
    "        label = labels.index(lb)\n",
    "        instance = dict()\n",
    "        instance[\"index\"],instance['seq1'],instance['seq2'],instance[\"label\"]=int(line[0]),line[8],line[9],label\n",
    "        train_file.append(instance)"
   ]
  },
  {
   "cell_type": "code",
   "execution_count": 6,
   "metadata": {},
   "outputs": [
    {
     "name": "stdout",
     "output_type": "stream",
     "text": [
      "skip first line\n"
     ]
    }
   ],
   "source": [
    "with open(\"./dev_mismatched.tsv\",\"r\",encoding=\"utf-8\") as dev:\n",
    "    t=csv.reader(dev,delimiter='\\t')\n",
    "    for i,line in enumerate(t):\n",
    "#         print(list(line))\n",
    "        if i==0:\n",
    "            print(\"skip first line\")\n",
    "            continue\n",
    "#         print(list(line))\n",
    "#         try:\n",
    "#             assert len(line) == 12\n",
    "#         except:\n",
    "#             print(\"error\")\n",
    "#             print(len(line))\n",
    "#             desolate+=1\n",
    "#             for p,c in enumerate(line):\n",
    "#                 print(\"index:\",p,\" context:\",c)\n",
    "#             continue\n",
    "        lb=line[-1]\n",
    "        if lb not in labels:\n",
    "            labels.append(lb)\n",
    "        label = labels.index(lb)\n",
    "        instance = dict()\n",
    "        instance[\"index\"],instance['seq1'],instance['seq2'],instance[\"label\"]=int(line[0]),line[8],line[9],label\n",
    "        dev_file.append(instance)"
   ]
  },
  {
   "cell_type": "code",
   "execution_count": 7,
   "metadata": {},
   "outputs": [
    {
     "name": "stdout",
     "output_type": "stream",
     "text": [
      "skip first line\n"
     ]
    }
   ],
   "source": [
    "with open(\"./test_mismatched.tsv\",\"r\",encoding=\"utf-8\") as test:\n",
    "    t=csv.reader(test,delimiter='\\t')\n",
    "    for i,line in enumerate(t):\n",
    "#         print(list(line))\n",
    "        if i==0:\n",
    "            print(\"skip first line\")\n",
    "            continue\n",
    "#         print(list(line))\n",
    "#         try:\n",
    "#             assert len(line) == 12\n",
    "#         except:\n",
    "#             print(\"error\")\n",
    "#             print(len(line))\n",
    "#             desolate+=1\n",
    "#             for p,c in enumerate(line):\n",
    "#                 print(\"index:\",p,\" context:\",c)\n",
    "#             continue\n",
    "#         lb=line[-1]\n",
    "#         if lb not in labels:\n",
    "#             labels.append(lb)\n",
    "#         label = labels.index(lb)\n",
    "        instance = dict()\n",
    "        instance[\"index\"],instance['seq1'],instance['seq2'],instance[\"label\"]=int(line[0]),line[8],line[9],None\n",
    "        test_file.append(instance)"
   ]
  },
  {
   "cell_type": "code",
   "execution_count": 8,
   "metadata": {},
   "outputs": [],
   "source": [
    "def simple_filt(seq:str):\n",
    "    if seq is None:\n",
    "        return None\n",
    "    tokens = seq.split()\n",
    "    tokens = [t for t in tokens if t != \"\"]\n",
    "    \n",
    "    return \" \".join(tokens)"
   ]
  },
  {
   "cell_type": "code",
   "execution_count": 9,
   "metadata": {},
   "outputs": [],
   "source": [
    "def write_to_json(list_files:list,file_names:list,labels:list):\n",
    "    ''' write cached object to json file(train/dev/test)\n",
    "    and also generate data statistic information\n",
    "    \n",
    "    assert the order of input list is train/dev/test\n",
    "    '''\n",
    "    def seq_len(seq:str):\n",
    "        try:\n",
    "            return len(seq.split(\" \"))\n",
    "        except:\n",
    "            if seq is None:\n",
    "                return 0\n",
    "            else:\n",
    "                raise KeyError\n",
    "                \n",
    "    max_lens = []\n",
    "    for i,list_file in enumerate(list_files):\n",
    "        max_len = 0\n",
    "        new_list = []\n",
    "        for item in list_file:\n",
    "            item['seq1'],item['seq2'] = simple_filt(item[\"seq1\"]),simple_filt(item['seq2'])\n",
    "            max_len_two_seq=max(seq_len(item['seq1']),seq_len(item['seq2']))\n",
    "            max_len = max(max_len_two_seq,max_len)\n",
    "            new_list.append(item)\n",
    "        with open(file_names[i],\"w\") as f:\n",
    "            json.dump(new_list,f)\n",
    "        \n",
    "        print(\"successfully dump %s file\" %file_names[i])\n",
    "        max_lens.append(max_len)\n",
    "    \n",
    "    data_info = dict()\n",
    "    train_info = dict()\n",
    "    dev_info = dict()\n",
    "    test_info = dict()\n",
    "    idx2lb = dict()\n",
    "    for i,lb in enumerate(labels):\n",
    "        idx2lb[i] = lb\n",
    "    print(\"index to label:\",idx2lb)\n",
    "    \n",
    "    train_info[\"instance_num\"],train_info[\"instance_max_len\"] = len(list_files[0]),max_lens[0]\n",
    "    dev_info[\"instance_num\"],dev_info[\"instance_max_len\"] = len(list_files[1]),max_lens[1]\n",
    "    test_info[\"instance_num\"],test_info[\"instance_max_len\"] = len(list_files[2]),max_lens[2]\n",
    "    \n",
    "    \n",
    "    data_info[\"labels\"] = idx2lb\n",
    "    data_info[\"train\"] = train_info\n",
    "    data_info[\"dev\"] = dev_info\n",
    "    data_info[\"test\"] = test_info\n",
    "    \n",
    "    data_info_name = \"./data_info.json\"\n",
    "    with open(data_info_name,\"w\") as f:\n",
    "        json.dump(data_info,f)\n",
    "    print(\"successfully dump %s file\" %data_info_name )"
   ]
  },
  {
   "cell_type": "code",
   "execution_count": 10,
   "metadata": {},
   "outputs": [
    {
     "data": {
      "text/plain": [
       "['neutral', 'entailment', 'contradiction']"
      ]
     },
     "execution_count": 10,
     "metadata": {},
     "output_type": "execute_result"
    }
   ],
   "source": [
    "labels"
   ]
  },
  {
   "cell_type": "code",
   "execution_count": 11,
   "metadata": {},
   "outputs": [
    {
     "name": "stdout",
     "output_type": "stream",
     "text": [
      "successfully dump train.json file\n",
      "successfully dump dev.json file\n",
      "successfully dump test.json file\n",
      "index to label: {0: 'neutral', 1: 'entailment', 2: 'contradiction'}\n",
      "successfully dump ./data_info.json file\n"
     ]
    }
   ],
   "source": [
    "write_to_json([train_file,dev_file,test_file],[\"train.json\",\"dev.json\",\"test.json\"],labels)"
   ]
  },
  {
   "cell_type": "code",
   "execution_count": null,
   "metadata": {},
   "outputs": [],
   "source": []
  }
 ],
 "metadata": {
  "kernelspec": {
   "display_name": "Python 3",
   "language": "python",
   "name": "python3"
  },
  "language_info": {
   "codemirror_mode": {
    "name": "ipython",
    "version": 3
   },
   "file_extension": ".py",
   "mimetype": "text/x-python",
   "name": "python",
   "nbconvert_exporter": "python",
   "pygments_lexer": "ipython3",
   "version": "3.6.5"
  }
 },
 "nbformat": 4,
 "nbformat_minor": 2
}
